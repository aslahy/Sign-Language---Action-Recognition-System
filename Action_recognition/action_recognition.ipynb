{
 "cells": [
  {
   "cell_type": "code",
   "execution_count": 15,
   "metadata": {},
   "outputs": [],
   "source": [
    "import cv2\n",
    "import numpy as np\n",
    "import os\n",
    "import mediapipe as mp\n",
    "from tqdm import tqdm  # Import tqdm for progress bar"
   ]
  },
  {
   "cell_type": "code",
   "execution_count": 16,
   "metadata": {},
   "outputs": [],
   "source": [
    "mp_holistic = mp.solutions.holistic"
   ]
  },
  {
   "cell_type": "code",
   "execution_count": 17,
   "metadata": {},
   "outputs": [],
   "source": [
    "# Function for Mediapipe Detection\n",
    "def mediapipe_detection(image, model):\n",
    "    image = cv2.cvtColor(image, cv2.COLOR_BGR2RGB)\n",
    "    image.flags.writeable = False\n",
    "    results = model.process(image)\n",
    "    image.flags.writeable = True\n",
    "    image = cv2.cvtColor(image, cv2.COLOR_RGB2BGR)\n",
    "    return image, results"
   ]
  },
  {
   "cell_type": "code",
   "execution_count": 18,
   "metadata": {},
   "outputs": [],
   "source": [
    "# Function to Draw Styled Landmarks\n",
    "def draw_styled_landmarks(image, results):\n",
    "    mp_drawing = mp.solutions.drawing_utils\n",
    "    if results.right_hand_landmarks:\n",
    "        mp_drawing.draw_landmarks(image, results.right_hand_landmarks, mp_holistic.HAND_CONNECTIONS)\n"
   ]
  },
  {
   "cell_type": "code",
   "execution_count": 19,
   "metadata": {},
   "outputs": [],
   "source": [
    "# Function to Extract Right Hand Keypoints\n",
    "def extract_right_hand_keypoints(results):\n",
    "    if results.right_hand_landmarks:\n",
    "        keypoints = np.array([[res.x, res.y, res.z] for res in results.right_hand_landmarks.landmark])\n",
    "    else:\n",
    "        keypoints = np.zeros((21, 3))  # 21 landmarks with (x, y, z)\n",
    "    return keypoints.flatten()\n"
   ]
  },
  {
   "cell_type": "code",
   "execution_count": 20,
   "metadata": {},
   "outputs": [],
   "source": [
    "# Define Paths and Parameters\n",
    "actions_folder_path = \"actions\"\n",
    "sequence_length = 30  # Number of frames per video\n",
    "\n",
    "# Get all action subfolders\n",
    "subfolders = [f for f in os.listdir(actions_folder_path) if os.path.isdir(os.path.join(actions_folder_path, f))]\n"
   ]
  },
  {
   "cell_type": "code",
   "execution_count": 21,
   "metadata": {},
   "outputs": [
    {
     "name": "stderr",
     "output_type": "stream",
     "text": [
      "Processing Action goodbye: 100%|██████████| 80/80 [03:29<00:00,  2.62s/video]\n",
      "Processing Action hello: 100%|██████████| 80/80 [03:16<00:00,  2.46s/video]\n",
      "Processing Action no: 100%|██████████| 80/80 [03:06<00:00,  2.33s/video]\n",
      "Processing Action please: 100%|██████████| 80/80 [03:16<00:00,  2.45s/video]\n",
      "Processing Action thankyou: 100%|██████████| 80/80 [03:41<00:00,  2.77s/video]\n",
      "Processing Action yes: 100%|██████████| 80/80 [03:29<00:00,  2.62s/video]\n"
     ]
    }
   ],
   "source": [
    "# Process Videos\n",
    "with mp_holistic.Holistic(min_detection_confidence=0.5, min_tracking_confidence=0.5) as holistic:\n",
    "    for action_folder in subfolders:\n",
    "        action_path = os.path.join(actions_folder_path, action_folder)\n",
    "\n",
    "        for video_file in tqdm(os.listdir(action_path), desc=f'Processing Action {action_folder}', unit='video'):\n",
    "            video_path = os.path.join(action_path, video_file)\n",
    "            cap = cv2.VideoCapture(video_path)\n",
    "            total_frames = int(cap.get(cv2.CAP_PROP_FRAME_COUNT))\n",
    "\n",
    "            # Process only videos with exactly 30 frames\n",
    "            if total_frames != sequence_length:\n",
    "                print(f\"Skipping video {video_file}: {total_frames} frames (not 30).\")\n",
    "                cap.release()\n",
    "                continue\n",
    "\n",
    "            frame_num = 0\n",
    "            saved_frames = 0\n",
    "\n",
    "            while cap.isOpened() and saved_frames < sequence_length:\n",
    "                ret, frame = cap.read()\n",
    "                if not ret:\n",
    "                    break\n",
    "\n",
    "                # Resize frame and process with Mediapipe\n",
    "                frame = cv2.resize(frame, (640, 360))\n",
    "                image, results = mediapipe_detection(frame, holistic)\n",
    "                draw_styled_landmarks(image, results)\n",
    "\n",
    "                # Extract and save right-hand keypoints\n",
    "                keypoints = extract_right_hand_keypoints(results)\n",
    "                npy_path = os.path.join(action_path, f\"{os.path.splitext(video_file)[0]}_{saved_frames}.npy\")\n",
    "                np.save(npy_path, keypoints)\n",
    "\n",
    "                saved_frames += 1\n",
    "\n",
    "                # Display progress\n",
    "                cv2.putText(image, f'Processing Action {action_folder}, Video {video_file}', \n",
    "                            (15, 12), cv2.FONT_HERSHEY_SIMPLEX, 0.5, (0, 0, 255), 1, cv2.LINE_AA)\n",
    "                cv2.imshow('OpenCV Feed', image)\n",
    "\n",
    "                # Exit on 'q' press\n",
    "                if cv2.waitKey(10) & 0xFF == ord('q'):\n",
    "                    break\n",
    "\n",
    "                frame_num += 1\n",
    "\n",
    "            cap.release()\n",
    "\n",
    "    cv2.destroyAllWindows()"
   ]
  },
  {
   "cell_type": "code",
   "execution_count": 1,
   "metadata": {},
   "outputs": [
    {
     "ename": "NameError",
     "evalue": "name 'subfolders' is not defined",
     "output_type": "error",
     "traceback": [
      "\u001b[1;31m---------------------------------------------------------------------------\u001b[0m",
      "\u001b[1;31mNameError\u001b[0m                                 Traceback (most recent call last)",
      "Cell \u001b[1;32mIn[1], line 2\u001b[0m\n\u001b[0;32m      1\u001b[0m sequences, labels \u001b[38;5;241m=\u001b[39m [], []\n\u001b[1;32m----> 2\u001b[0m label_map \u001b[38;5;241m=\u001b[39m {action: idx \u001b[38;5;28;01mfor\u001b[39;00m idx, action \u001b[38;5;129;01min\u001b[39;00m \u001b[38;5;28menumerate\u001b[39m(\u001b[43msubfolders\u001b[49m)}  \u001b[38;5;66;03m# Define labels based on folder names (1 to 5)\u001b[39;00m\n\u001b[0;32m      4\u001b[0m \u001b[38;5;28;01mfor\u001b[39;00m action_folder \u001b[38;5;129;01min\u001b[39;00m subfolders:\n\u001b[0;32m      5\u001b[0m     action_path \u001b[38;5;241m=\u001b[39m os\u001b[38;5;241m.\u001b[39mpath\u001b[38;5;241m.\u001b[39mjoin(actions_folder_path, action_folder)\n",
      "\u001b[1;31mNameError\u001b[0m: name 'subfolders' is not defined"
     ]
    }
   ],
   "source": [
    "\n"
   ]
  }
 ],
 "metadata": {
  "kernelspec": {
   "display_name": "Python 3",
   "language": "python",
   "name": "python3"
  },
  "language_info": {
   "codemirror_mode": {
    "name": "ipython",
    "version": 3
   },
   "file_extension": ".py",
   "mimetype": "text/x-python",
   "name": "python",
   "nbconvert_exporter": "python",
   "pygments_lexer": "ipython3",
   "version": "3.11.5"
  }
 },
 "nbformat": 4,
 "nbformat_minor": 2
}
